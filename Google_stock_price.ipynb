{
  "cells": [
    {
      "cell_type": "markdown",
      "metadata": {
        "id": "view-in-github",
        "colab_type": "text"
      },
      "source": [
        "<a href=\"https://colab.research.google.com/github/Msc-26/Google_stock_price/blob/main/Google_stock_price.ipynb\" target=\"_parent\"><img src=\"https://colab.research.google.com/assets/colab-badge.svg\" alt=\"Open In Colab\"/></a>"
      ]
    },
    {
      "cell_type": "code",
      "execution_count": null,
      "metadata": {
        "id": "jEG6a0aAcqtl"
      },
      "outputs": [],
      "source": [
        "import numpy as np\n",
        "import pandas as pd\n",
        "import matplotlib.pyplot as plt\n",
        "from sklearn.preprocessing import MinMaxScaler\n",
        "from keras.models import Sequential\n",
        "from keras.layers import Dense,LSTM,Dropout"
      ]
    },
    {
      "cell_type": "code",
      "execution_count": null,
      "metadata": {
        "colab": {
          "base_uri": "https://localhost:8080/",
          "height": 206
        },
        "id": "RruS3weAcqtn",
        "outputId": "cea45a9e-5155-4e14-bda4-bd760044cce6"
      },
      "outputs": [
        {
          "output_type": "execute_result",
          "data": {
            "text/plain": [
              "       Date    Open    High     Low   Close      Volume\n",
              "0  1/3/2012  325.25  332.83  324.97  663.59   7,380,500\n",
              "1  1/4/2012  331.27  333.87  329.08  666.45   5,749,400\n",
              "2  1/5/2012  329.83  330.75  326.89  657.21   6,590,300\n",
              "3  1/6/2012  328.34  328.77  323.68  648.24   5,405,900\n",
              "4  1/9/2012  322.04  322.29  309.46  620.76  11,688,800"
            ],
            "text/html": [
              "\n",
              "  <div id=\"df-815f0374-81c5-4794-93f7-788a0277114e\">\n",
              "    <div class=\"colab-df-container\">\n",
              "      <div>\n",
              "<style scoped>\n",
              "    .dataframe tbody tr th:only-of-type {\n",
              "        vertical-align: middle;\n",
              "    }\n",
              "\n",
              "    .dataframe tbody tr th {\n",
              "        vertical-align: top;\n",
              "    }\n",
              "\n",
              "    .dataframe thead th {\n",
              "        text-align: right;\n",
              "    }\n",
              "</style>\n",
              "<table border=\"1\" class=\"dataframe\">\n",
              "  <thead>\n",
              "    <tr style=\"text-align: right;\">\n",
              "      <th></th>\n",
              "      <th>Date</th>\n",
              "      <th>Open</th>\n",
              "      <th>High</th>\n",
              "      <th>Low</th>\n",
              "      <th>Close</th>\n",
              "      <th>Volume</th>\n",
              "    </tr>\n",
              "  </thead>\n",
              "  <tbody>\n",
              "    <tr>\n",
              "      <th>0</th>\n",
              "      <td>1/3/2012</td>\n",
              "      <td>325.25</td>\n",
              "      <td>332.83</td>\n",
              "      <td>324.97</td>\n",
              "      <td>663.59</td>\n",
              "      <td>7,380,500</td>\n",
              "    </tr>\n",
              "    <tr>\n",
              "      <th>1</th>\n",
              "      <td>1/4/2012</td>\n",
              "      <td>331.27</td>\n",
              "      <td>333.87</td>\n",
              "      <td>329.08</td>\n",
              "      <td>666.45</td>\n",
              "      <td>5,749,400</td>\n",
              "    </tr>\n",
              "    <tr>\n",
              "      <th>2</th>\n",
              "      <td>1/5/2012</td>\n",
              "      <td>329.83</td>\n",
              "      <td>330.75</td>\n",
              "      <td>326.89</td>\n",
              "      <td>657.21</td>\n",
              "      <td>6,590,300</td>\n",
              "    </tr>\n",
              "    <tr>\n",
              "      <th>3</th>\n",
              "      <td>1/6/2012</td>\n",
              "      <td>328.34</td>\n",
              "      <td>328.77</td>\n",
              "      <td>323.68</td>\n",
              "      <td>648.24</td>\n",
              "      <td>5,405,900</td>\n",
              "    </tr>\n",
              "    <tr>\n",
              "      <th>4</th>\n",
              "      <td>1/9/2012</td>\n",
              "      <td>322.04</td>\n",
              "      <td>322.29</td>\n",
              "      <td>309.46</td>\n",
              "      <td>620.76</td>\n",
              "      <td>11,688,800</td>\n",
              "    </tr>\n",
              "  </tbody>\n",
              "</table>\n",
              "</div>\n",
              "      <button class=\"colab-df-convert\" onclick=\"convertToInteractive('df-815f0374-81c5-4794-93f7-788a0277114e')\"\n",
              "              title=\"Convert this dataframe to an interactive table.\"\n",
              "              style=\"display:none;\">\n",
              "        \n",
              "  <svg xmlns=\"http://www.w3.org/2000/svg\" height=\"24px\"viewBox=\"0 0 24 24\"\n",
              "       width=\"24px\">\n",
              "    <path d=\"M0 0h24v24H0V0z\" fill=\"none\"/>\n",
              "    <path d=\"M18.56 5.44l.94 2.06.94-2.06 2.06-.94-2.06-.94-.94-2.06-.94 2.06-2.06.94zm-11 1L8.5 8.5l.94-2.06 2.06-.94-2.06-.94L8.5 2.5l-.94 2.06-2.06.94zm10 10l.94 2.06.94-2.06 2.06-.94-2.06-.94-.94-2.06-.94 2.06-2.06.94z\"/><path d=\"M17.41 7.96l-1.37-1.37c-.4-.4-.92-.59-1.43-.59-.52 0-1.04.2-1.43.59L10.3 9.45l-7.72 7.72c-.78.78-.78 2.05 0 2.83L4 21.41c.39.39.9.59 1.41.59.51 0 1.02-.2 1.41-.59l7.78-7.78 2.81-2.81c.8-.78.8-2.07 0-2.86zM5.41 20L4 18.59l7.72-7.72 1.47 1.35L5.41 20z\"/>\n",
              "  </svg>\n",
              "      </button>\n",
              "      \n",
              "  <style>\n",
              "    .colab-df-container {\n",
              "      display:flex;\n",
              "      flex-wrap:wrap;\n",
              "      gap: 12px;\n",
              "    }\n",
              "\n",
              "    .colab-df-convert {\n",
              "      background-color: #E8F0FE;\n",
              "      border: none;\n",
              "      border-radius: 50%;\n",
              "      cursor: pointer;\n",
              "      display: none;\n",
              "      fill: #1967D2;\n",
              "      height: 32px;\n",
              "      padding: 0 0 0 0;\n",
              "      width: 32px;\n",
              "    }\n",
              "\n",
              "    .colab-df-convert:hover {\n",
              "      background-color: #E2EBFA;\n",
              "      box-shadow: 0px 1px 2px rgba(60, 64, 67, 0.3), 0px 1px 3px 1px rgba(60, 64, 67, 0.15);\n",
              "      fill: #174EA6;\n",
              "    }\n",
              "\n",
              "    [theme=dark] .colab-df-convert {\n",
              "      background-color: #3B4455;\n",
              "      fill: #D2E3FC;\n",
              "    }\n",
              "\n",
              "    [theme=dark] .colab-df-convert:hover {\n",
              "      background-color: #434B5C;\n",
              "      box-shadow: 0px 1px 3px 1px rgba(0, 0, 0, 0.15);\n",
              "      filter: drop-shadow(0px 1px 2px rgba(0, 0, 0, 0.3));\n",
              "      fill: #FFFFFF;\n",
              "    }\n",
              "  </style>\n",
              "\n",
              "      <script>\n",
              "        const buttonEl =\n",
              "          document.querySelector('#df-815f0374-81c5-4794-93f7-788a0277114e button.colab-df-convert');\n",
              "        buttonEl.style.display =\n",
              "          google.colab.kernel.accessAllowed ? 'block' : 'none';\n",
              "\n",
              "        async function convertToInteractive(key) {\n",
              "          const element = document.querySelector('#df-815f0374-81c5-4794-93f7-788a0277114e');\n",
              "          const dataTable =\n",
              "            await google.colab.kernel.invokeFunction('convertToInteractive',\n",
              "                                                     [key], {});\n",
              "          if (!dataTable) return;\n",
              "\n",
              "          const docLinkHtml = 'Like what you see? Visit the ' +\n",
              "            '<a target=\"_blank\" href=https://colab.research.google.com/notebooks/data_table.ipynb>data table notebook</a>'\n",
              "            + ' to learn more about interactive tables.';\n",
              "          element.innerHTML = '';\n",
              "          dataTable['output_type'] = 'display_data';\n",
              "          await google.colab.output.renderOutput(dataTable, element);\n",
              "          const docLink = document.createElement('div');\n",
              "          docLink.innerHTML = docLinkHtml;\n",
              "          element.appendChild(docLink);\n",
              "        }\n",
              "      </script>\n",
              "    </div>\n",
              "  </div>\n",
              "  "
            ]
          },
          "metadata": {},
          "execution_count": 4
        }
      ],
      "source": [
        "data = pd.read_csv('Google_train_data.csv')\n",
        "data.head()"
      ]
    },
    {
      "cell_type": "code",
      "execution_count": null,
      "metadata": {
        "colab": {
          "base_uri": "https://localhost:8080/"
        },
        "id": "pXmzKCB6cqto",
        "outputId": "f9e070ad-512a-4b24-f53b-28ebdef430ef"
      },
      "outputs": [
        {
          "output_type": "stream",
          "name": "stdout",
          "text": [
            "<class 'pandas.core.frame.DataFrame'>\n",
            "RangeIndex: 1258 entries, 0 to 1257\n",
            "Data columns (total 6 columns):\n",
            " #   Column  Non-Null Count  Dtype  \n",
            "---  ------  --------------  -----  \n",
            " 0   Date    1258 non-null   object \n",
            " 1   Open    1258 non-null   float64\n",
            " 2   High    1258 non-null   float64\n",
            " 3   Low     1258 non-null   float64\n",
            " 4   Close   1258 non-null   object \n",
            " 5   Volume  1258 non-null   object \n",
            "dtypes: float64(3), object(3)\n",
            "memory usage: 59.1+ KB\n"
          ]
        }
      ],
      "source": [
        "data.info()"
      ]
    },
    {
      "cell_type": "code",
      "execution_count": null,
      "metadata": {
        "id": "hbK5GKIncqto"
      },
      "outputs": [],
      "source": [
        "data[\"Close\"]=pd.to_numeric(data.Close,errors='coerce')\n",
        "data = data.dropna()\n",
        "trainData = data.iloc[:,4:5].values"
      ]
    },
    {
      "cell_type": "code",
      "execution_count": null,
      "metadata": {
        "colab": {
          "base_uri": "https://localhost:8080/"
        },
        "id": "GOVfl58vcqto",
        "outputId": "ef1e5fed-fe03-4461-f710-f60cb8427061"
      },
      "outputs": [
        {
          "output_type": "stream",
          "name": "stdout",
          "text": [
            "<class 'pandas.core.frame.DataFrame'>\n",
            "Int64Index: 1149 entries, 0 to 1257\n",
            "Data columns (total 6 columns):\n",
            " #   Column  Non-Null Count  Dtype  \n",
            "---  ------  --------------  -----  \n",
            " 0   Date    1149 non-null   object \n",
            " 1   Open    1149 non-null   float64\n",
            " 2   High    1149 non-null   float64\n",
            " 3   Low     1149 non-null   float64\n",
            " 4   Close   1149 non-null   float64\n",
            " 5   Volume  1149 non-null   object \n",
            "dtypes: float64(4), object(2)\n",
            "memory usage: 62.8+ KB\n"
          ]
        }
      ],
      "source": [
        "data.info()"
      ]
    },
    {
      "cell_type": "code",
      "execution_count": null,
      "metadata": {
        "colab": {
          "base_uri": "https://localhost:8080/"
        },
        "id": "yhS9iUu8cqto",
        "outputId": "03983842-efb2-4a77-db7a-485b950b28aa"
      },
      "outputs": [
        {
          "output_type": "execute_result",
          "data": {
            "text/plain": [
              "(1149, 1)"
            ]
          },
          "metadata": {},
          "execution_count": 8
        }
      ],
      "source": [
        "sc = MinMaxScaler(feature_range=(0,1))\n",
        "trainData = sc.fit_transform(trainData)\n",
        "trainData.shape"
      ]
    },
    {
      "cell_type": "code",
      "execution_count": null,
      "metadata": {
        "id": "XESJbg7Ecqtp"
      },
      "outputs": [],
      "source": [
        "X_train = []\n",
        "y_train = []\n",
        "\n",
        "for i in range (60,1149): #60 : timestep // 1149 : length of the data\n",
        "    X_train.append(trainData[i-60:i,0])\n",
        "    y_train.append(trainData[i,0])\n",
        "\n",
        "X_train,y_train = np.array(X_train),np.array(y_train)"
      ]
    },
    {
      "cell_type": "code",
      "execution_count": null,
      "metadata": {
        "colab": {
          "base_uri": "https://localhost:8080/"
        },
        "id": "fxbRZsAlcqtp",
        "outputId": "5b963122-3e38-43cf-a214-5254a9332590"
      },
      "outputs": [
        {
          "output_type": "execute_result",
          "data": {
            "text/plain": [
              "(1089, 60, 1)"
            ]
          },
          "metadata": {},
          "execution_count": 10
        }
      ],
      "source": [
        "X_train = np.reshape(X_train,(X_train.shape[0],X_train.shape[1],1)) #adding the batch_size axis\n",
        "X_train.shape"
      ]
    },
    {
      "cell_type": "code",
      "execution_count": null,
      "metadata": {
        "id": "yWs2FHLDcqtp"
      },
      "outputs": [],
      "source": [
        "model = Sequential()\n",
        "\n",
        "model.add(LSTM(units=100, return_sequences = True, input_shape =(X_train.shape[1],1)))\n",
        "model.add(Dropout(0.2))\n",
        "\n",
        "model.add(LSTM(units=100, return_sequences = True))\n",
        "model.add(Dropout(0.2))\n",
        "\n",
        "model.add(LSTM(units=100, return_sequences = True))\n",
        "model.add(Dropout(0.2))\n",
        "\n",
        "model.add(LSTM(units=100, return_sequences = False))\n",
        "model.add(Dropout(0.2))\n",
        "\n",
        "model.add(Dense(units =1))\n",
        "model.compile(optimizer='adam',loss=\"mean_squared_error\")"
      ]
    },
    {
      "cell_type": "code",
      "execution_count": null,
      "metadata": {
        "colab": {
          "base_uri": "https://localhost:8080/"
        },
        "id": "qvp7Nk53cqtp",
        "outputId": "9abd2328-9e87-4dd3-b44b-89330d21bc48"
      },
      "outputs": [
        {
          "output_type": "stream",
          "name": "stdout",
          "text": [
            "Epoch 1/20\n",
            "35/35 - 17s - loss: 0.0286 - 17s/epoch - 481ms/step\n",
            "Epoch 2/20\n",
            "35/35 - 8s - loss: 0.0107 - 8s/epoch - 241ms/step\n",
            "Epoch 3/20\n",
            "35/35 - 8s - loss: 0.0086 - 8s/epoch - 224ms/step\n",
            "Epoch 4/20\n",
            "35/35 - 8s - loss: 0.0138 - 8s/epoch - 221ms/step\n",
            "Epoch 5/20\n",
            "35/35 - 8s - loss: 0.0078 - 8s/epoch - 242ms/step\n",
            "Epoch 6/20\n",
            "35/35 - 7s - loss: 0.0063 - 7s/epoch - 205ms/step\n",
            "Epoch 7/20\n",
            "35/35 - 9s - loss: 0.0064 - 9s/epoch - 246ms/step\n",
            "Epoch 8/20\n",
            "35/35 - 10s - loss: 0.0064 - 10s/epoch - 273ms/step\n",
            "Epoch 9/20\n",
            "35/35 - 7s - loss: 0.0069 - 7s/epoch - 205ms/step\n",
            "Epoch 10/20\n",
            "35/35 - 9s - loss: 0.0062 - 9s/epoch - 244ms/step\n",
            "Epoch 11/20\n",
            "35/35 - 8s - loss: 0.0057 - 8s/epoch - 228ms/step\n",
            "Epoch 12/20\n",
            "35/35 - 8s - loss: 0.0061 - 8s/epoch - 220ms/step\n",
            "Epoch 13/20\n",
            "35/35 - 8s - loss: 0.0098 - 8s/epoch - 242ms/step\n",
            "Epoch 14/20\n",
            "35/35 - 7s - loss: 0.0059 - 7s/epoch - 206ms/step\n",
            "Epoch 15/20\n",
            "35/35 - 9s - loss: 0.0054 - 9s/epoch - 243ms/step\n",
            "Epoch 16/20\n",
            "35/35 - 9s - loss: 0.0050 - 9s/epoch - 245ms/step\n",
            "Epoch 17/20\n",
            "35/35 - 7s - loss: 0.0049 - 7s/epoch - 206ms/step\n",
            "Epoch 18/20\n",
            "35/35 - 9s - loss: 0.0050 - 9s/epoch - 243ms/step\n",
            "Epoch 19/20\n",
            "35/35 - 8s - loss: 0.0045 - 8s/epoch - 218ms/step\n",
            "Epoch 20/20\n",
            "35/35 - 8s - loss: 0.0046 - 8s/epoch - 231ms/step\n"
          ]
        }
      ],
      "source": [
        "\n",
        "hist = model.fit(X_train, y_train, epochs = 20, batch_size = 32, verbose=2)"
      ]
    },
    {
      "cell_type": "code",
      "execution_count": null,
      "metadata": {
        "colab": {
          "base_uri": "https://localhost:8080/",
          "height": 472
        },
        "id": "szgfrZY4cqtq",
        "outputId": "42b0558d-4a2a-45c8-be55-fbbd0bfe1be4"
      },
      "outputs": [
        {
          "output_type": "display_data",
          "data": {
            "text/plain": [
              "<Figure size 640x480 with 1 Axes>"
            ],
            "image/png": "[encoded data removed]"
          },
          "metadata": {}
        }
      ],
      "source": [
        "plt.plot(hist.history['loss'])\n",
        "plt.title('Training model loss')\n",
        "plt.ylabel('loss')\n",
        "plt.xlabel('epoch')\n",
        "plt.legend(['train'], loc='upper left')\n",
        "plt.show()"
      ]
    },
    {
      "cell_type": "code",
      "execution_count": null,
      "metadata": {
        "colab": {
          "base_uri": "https://localhost:8080/"
        },
        "id": "EMaLX-2xcqtq",
        "outputId": "57545b65-219d-448d-8911-9551f95dd8e7"
      },
      "outputs": [
        {
          "output_type": "execute_result",
          "data": {
            "text/plain": [
              "(192, 60, 1)"
            ]
          },
          "metadata": {},
          "execution_count": 14
        }
      ],
      "source": [
        "testData = pd.read_csv('/content/Google_test_data.csv')\n",
        "testData[\"Close\"]=pd.to_numeric(testData.Close,errors='coerce')\n",
        "testData = testData.dropna()\n",
        "testData = testData.iloc[:,4:5]\n",
        "y_test = testData.iloc[60:,0:].values\n",
        "#input array for the model\n",
        "inputClosing = testData.iloc[:,0:].values\n",
        "inputClosing_scaled = sc.transform(inputClosing)\n",
        "inputClosing_scaled.shape\n",
        "X_test = []\n",
        "length = len(testData)\n",
        "timestep = 60\n",
        "for i in range(timestep,length):\n",
        "    X_test.append(inputClosing_scaled[i-timestep:i,0])\n",
        "X_test = np.array(X_test)\n",
        "X_test = np.reshape(X_test,(X_test.shape[0],X_test.shape[1],1))\n",
        "X_test.shape"
      ]
    },
    {
      "cell_type": "code",
      "execution_count": null,
      "metadata": {
        "colab": {
          "base_uri": "https://localhost:8080/"
        },
        "id": "Ei0UZsaTcqtq",
        "outputId": "d44793b6-4985-4d9e-af29-ad3a0df07a17"
      },
      "outputs": [
        {
          "output_type": "stream",
          "name": "stdout",
          "text": [
            "6/6 [==============================] - 2s 71ms/step\n"
          ]
        },
        {
          "output_type": "execute_result",
          "data": {
            "text/plain": [
              "array([[1.2511983],\n",
              "       [1.2531408],\n",
              "       [1.2654711],\n",
              "       [1.2835574],\n",
              "       [1.2957383],\n",
              "       [1.2903605],\n",
              "       [1.2707837],\n",
              "       [1.2487435],\n",
              "       [1.238034 ],\n",
              "       [1.2389436],\n",
              "       [1.2343848],\n",
              "       [1.2235408],\n",
              "       [1.2141898],\n",
              "       [1.2057799],\n",
              "       [1.2061312],\n",
              "       [1.2133946],\n",
              "       [1.235588 ],\n",
              "       [1.2674811],\n",
              "       [1.3008068],\n",
              "       [1.3311442],\n",
              "       [1.33643  ],\n",
              "       [1.324204 ],\n",
              "       [1.2953858],\n",
              "       [1.2613766],\n",
              "       [1.2358987],\n",
              "       [1.2268878],\n",
              "       [1.2312728],\n",
              "       [1.2365953],\n",
              "       [1.2305744],\n",
              "       [1.2187918],\n",
              "       [1.2057234],\n",
              "       [1.1911772],\n",
              "       [1.1690538],\n",
              "       [1.1424747],\n",
              "       [1.1356741],\n",
              "       [1.152057 ],\n",
              "       [1.1799763],\n",
              "       [1.2070544],\n",
              "       [1.2291358],\n",
              "       [1.2353828],\n",
              "       [1.243179 ],\n",
              "       [1.2558454],\n",
              "       [1.27242  ],\n",
              "       [1.2877674],\n",
              "       [1.2968775],\n",
              "       [1.2950451],\n",
              "       [1.2813171],\n",
              "       [1.2717466],\n",
              "       [1.2720621],\n",
              "       [1.2825335],\n",
              "       [1.3002297],\n",
              "       [1.3102515],\n",
              "       [1.3111475],\n",
              "       [1.3056573],\n",
              "       [1.3031639],\n",
              "       [1.2990025],\n",
              "       [1.2897985],\n",
              "       [1.2867045],\n",
              "       [1.2997842],\n",
              "       [1.3220648],\n",
              "       [1.3511778],\n",
              "       [1.3835787],\n",
              "       [1.4018066],\n",
              "       [1.3978735],\n",
              "       [1.3777815],\n",
              "       [1.3525705],\n",
              "       [1.3393773],\n",
              "       [1.3396564],\n",
              "       [1.3486974],\n",
              "       [1.3577614],\n",
              "       [1.3647559],\n",
              "       [1.3675706],\n",
              "       [1.3614464],\n",
              "       [1.3539007],\n",
              "       [1.3485458],\n",
              "       [1.3480849],\n",
              "       [1.3516659],\n",
              "       [1.3581309],\n",
              "       [1.3718758],\n",
              "       [1.3913964],\n",
              "       [1.4153788],\n",
              "       [1.4362655],\n",
              "       [1.4446326],\n",
              "       [1.4410467],\n",
              "       [1.4421952],\n",
              "       [1.4559873],\n",
              "       [1.4765213],\n",
              "       [1.4927702],\n",
              "       [1.5001904],\n",
              "       [1.4997877],\n",
              "       [1.5000161],\n",
              "       [1.5112165],\n",
              "       [1.5317193],\n",
              "       [1.5437535],\n",
              "       [1.5394973],\n",
              "       [1.5216608],\n",
              "       [1.4955441],\n",
              "       [1.4687469],\n",
              "       [1.4497724],\n",
              "       [1.4483418],\n",
              "       [1.4623545],\n",
              "       [1.4846293],\n",
              "       [1.5095218],\n",
              "       [1.527613 ],\n",
              "       [1.5350252],\n",
              "       [1.5315219],\n",
              "       [1.523762 ],\n",
              "       [1.5170879],\n",
              "       [1.5179317],\n",
              "       [1.5254818],\n",
              "       [1.5373509],\n",
              "       [1.5522478],\n",
              "       [1.5658147],\n",
              "       [1.5794762],\n",
              "       [1.596571 ],\n",
              "       [1.6096909],\n",
              "       [1.6186492],\n",
              "       [1.6263945],\n",
              "       [1.63798  ],\n",
              "       [1.6123861],\n",
              "       [1.5536442],\n",
              "       [1.4862913],\n",
              "       [1.4402177],\n",
              "       [1.4235721],\n",
              "       [1.4243722],\n",
              "       [1.4304205],\n",
              "       [1.435257 ],\n",
              "       [1.438648 ],\n",
              "       [1.4302274],\n",
              "       [1.4100151],\n",
              "       [1.4013765],\n",
              "       [1.4125103],\n",
              "       [1.4300725],\n",
              "       [1.4368733],\n",
              "       [1.4354892],\n",
              "       [1.431147 ],\n",
              "       [1.4234982],\n",
              "       [1.4124098],\n",
              "       [1.4012535],\n",
              "       [1.3869373],\n",
              "       [1.3728023],\n",
              "       [1.3575065],\n",
              "       [1.3218617],\n",
              "       [1.280102 ],\n",
              "       [1.2423688],\n",
              "       [1.2166198],\n",
              "       [1.2113292],\n",
              "       [1.2270062],\n",
              "       [1.2536712],\n",
              "       [1.2800863],\n",
              "       [1.3030534],\n",
              "       [1.3188518],\n",
              "       [1.3288746],\n",
              "       [1.3374743],\n",
              "       [1.3443803],\n",
              "       [1.3514584],\n",
              "       [1.3610421],\n",
              "       [1.3689469],\n",
              "       [1.3636223],\n",
              "       [1.3455496],\n",
              "       [1.3215622],\n",
              "       [1.3011024],\n",
              "       [1.2939018],\n",
              "       [1.3029597],\n",
              "       [1.3248373],\n",
              "       [1.3535274],\n",
              "       [1.3754627],\n",
              "       [1.3887243],\n",
              "       [1.3993058],\n",
              "       [1.4092547],\n",
              "       [1.417492 ],\n",
              "       [1.4243858],\n",
              "       [1.4301575],\n",
              "       [1.4315842],\n",
              "       [1.4289933],\n",
              "       [1.418851 ],\n",
              "       [1.407466 ],\n",
              "       [1.40161  ],\n",
              "       [1.3989469],\n",
              "       [1.3960367],\n",
              "       [1.4321606],\n",
              "       [1.4932263],\n",
              "       [1.5489525],\n",
              "       [1.5803952],\n",
              "       [1.5845858],\n",
              "       [1.5657041],\n",
              "       [1.5219506],\n",
              "       [1.4768555],\n",
              "       [1.4455543],\n",
              "       [1.4421628],\n",
              "       [1.4536977],\n",
              "       [1.4642885]], dtype=float32)"
            ]
          },
          "metadata": {},
          "execution_count": 15
        }
      ],
      "source": [
        "y_pred = model.predict(X_test)\n",
        "y_pred"
      ]
    },
    {
      "cell_type": "code",
      "execution_count": null,
      "metadata": {
        "id": "y15DPPWJcqtq"
      },
      "outputs": [],
      "source": [
        "predicted_price = sc.inverse_transform(y_pred)"
      ]
    },
    {
      "cell_type": "code",
      "execution_count": null,
      "metadata": {
        "colab": {
          "base_uri": "https://localhost:8080/",
          "height": 472
        },
        "id": "qL4G6jQccqtq",
        "outputId": "bcaa3f98-15aa-4e63-b5ac-4c521d2fc9b8"
      },
      "outputs": [
        {
          "output_type": "display_data",
          "data": {
            "text/plain": [
              "<Figure size 640x480 with 1 Axes>"
            ],
            "image/png": "[encoded data removed]"
          },
          "metadata": {}
        }
      ],
      "source": [
        "plt.plot(y_test, color = 'red', label = 'Actual Stock Price')\n",
        "plt.plot(predicted_price, color = 'green', label = 'Predicted Stock Price')\n",
        "plt.title('Google stock price prediction')\n",
        "plt.xlabel('Time')\n",
        "plt.ylabel('Stock Price')\n",
        "plt.legend()\n",
        "plt.show()"
      ]
    }
  ],
  "metadata": {
    "kernelspec": {
      "display_name": "Python 3",
      "language": "python",
      "name": "python3"
    },
    "language_info": {
      "codemirror_mode": {
        "name": "ipython",
        "version": 3
      },
      "file_extension": ".py",
      "mimetype": "text/x-python",
      "name": "python",
      "nbconvert_exporter": "python",
      "pygments_lexer": "ipython3",
      "version": "3.7.6"
    },
    "colab": {
      "provenance": [],
      "toc_visible": true,
      "include_colab_link": true
    }
  },
  "nbformat": 4,
  "nbformat_minor": 0
}